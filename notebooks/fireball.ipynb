{
 "cells": [
  {
   "cell_type": "markdown",
   "id": "5419ee32",
   "metadata": {},
   "source": [
    "# Loading FIREBALL dataset\n",
    "\n",
    "The FIREBALL dataset is a collection of Avrae transcripts available in HuggingFace. Here, we load them and explore them.\n",
    "\n",
    "Source: https://huggingface.co/datasets/lara-martin/FIREBALL"
   ]
  },
  {
   "cell_type": "code",
   "execution_count": 30,
   "id": "bfdb6693",
   "metadata": {},
   "outputs": [
    {
     "name": "stderr",
     "output_type": "stream",
     "text": [
      "\n",
      "[notice] A new release of pip is available: 24.3.1 -> 25.1\n",
      "[notice] To update, run: python.exe -m pip install --upgrade pip\n"
     ]
    }
   ],
   "source": [
    "!python -m pip install -q datasets jsonlines dotenv tqdm"
   ]
  },
  {
   "cell_type": "code",
   "execution_count": 31,
   "id": "d0bcc941",
   "metadata": {},
   "outputs": [],
   "source": [
    "import sys\n",
    "sys.path.append(\"../src\")\n",
    "\n",
    "from utils import *\n"
   ]
  },
  {
   "cell_type": "code",
   "execution_count": 35,
   "id": "10301c6f",
   "metadata": {},
   "outputs": [
    {
     "name": "stdout",
     "output_type": "stream",
     "text": [
      "{'type': 'user', 'id': '651bce2ab9ae9f37afbdedcd', 'name': 'dalloliogm', 'fullname': \"Giovanni Dall'Olio\", 'isPro': False, 'avatarUrl': '/avatars/b4e2590d3e9900d359fdfcc96cbb040b.svg', 'orgs': [{'type': 'org', 'id': '665f255b175693a15893b7a1', 'name': 'discord-community', 'fullname': 'Hugging Face Discord Community', 'avatarUrl': 'https://cdn-avatars.huggingface.co/v1/production/uploads/6340651b388c3fa40f9a5bc0/j6Vb_hutYuKRcQgMaDTAt.png', 'isEnterprise': False}], 'auth': {'type': 'access_token', 'accessToken': {'displayName': 'colab read', 'role': 'fineGrained', 'createdAt': '2025-01-17T18:27:22.097Z', 'fineGrained': {'canReadGatedRepos': True, 'global': [], 'scoped': [{'entity': {'_id': '651bce2ab9ae9f37afbdedcd', 'type': 'user', 'name': 'dalloliogm'}, 'permissions': ['repo.content.read', 'repo.write', 'inference.endpoints.infer.write', 'inference.endpoints.write', 'user.webhooks.read', 'collection.read', 'inference.serverless.write']}]}}}}\n"
     ]
    }
   ],
   "source": [
    "hf_token = get_hf_api_key()\n",
    "from huggingface_hub import login, whoami\n",
    "login(hf_token)\n",
    "print(whoami())\n"
   ]
  },
  {
   "cell_type": "code",
   "execution_count": null,
   "id": "97690fc9",
   "metadata": {},
   "outputs": [],
   "source": [
    "?load_dataset"
   ]
  },
  {
   "cell_type": "code",
   "execution_count": 37,
   "id": "e3a3a6a9",
   "metadata": {},
   "outputs": [
    {
     "name": "stderr",
     "output_type": "stream",
     "text": [
      "Downloading data: 100%|██████████| 1471/1471 [00:16<00:00, 87.03files/s]  \n",
      "Downloading data: 100%|██████████| 1471/1471 [00:00<00:00, 29409.79files/s]\n",
      "Generating train split: 153829 examples [00:56, 2703.20 examples/s]\n"
     ]
    }
   ],
   "source": [
    "from datasets import load_dataset\n",
    "\n",
    "dataset = load_dataset(\"lara-martin/FIREBALL\", trust_remote_code=True, num_proc=1)\n"
   ]
  },
  {
   "cell_type": "code",
   "execution_count": 47,
   "id": "70f10538",
   "metadata": {},
   "outputs": [
    {
     "data": {
      "text/plain": [
       "Value(dtype='string', id=None)"
      ]
     },
     "execution_count": 47,
     "metadata": {},
     "output_type": "execute_result"
    }
   ],
   "source": [
    "dataset[\"train\"].features['current_actor']['name']"
   ]
  }
 ],
 "metadata": {
  "kernelspec": {
   "display_name": "Python 3",
   "language": "python",
   "name": "python3"
  },
  "language_info": {
   "codemirror_mode": {
    "name": "ipython",
    "version": 3
   },
   "file_extension": ".py",
   "mimetype": "text/x-python",
   "name": "python",
   "nbconvert_exporter": "python",
   "pygments_lexer": "ipython3",
   "version": "3.13.2"
  }
 },
 "nbformat": 4,
 "nbformat_minor": 5
}
